{
 "cells": [
  {
   "cell_type": "code",
   "execution_count": null,
   "metadata": {},
   "outputs": [],
   "source": [
    "import pandas as pd\n",
    "\n",
    "df = pd.read_csv('/content/rawhouse1.csv')\n",
    "\n",
    "df "
   ]
  },
  {
   "cell_type": "code",
   "execution_count": null,
   "metadata": {},
   "outputs": [],
   "source": [
    "import pandas as pd\n",
    "import matplotlib.pyplot as plt\n",
    "\n",
    "\n",
    "\n",
    "\n",
    "region_start = '2607'  \n",
    "region_end = '2905'    \n",
    "\n",
    "\n",
    "# Filter DataFrame using postcode column\n",
    "\n",
    "\n",
    "region_df = df[(df['postcode'] >= int(region_start)) & (df['postcode'] <= int(region_end))]\n",
    "\n",
    "# # Convert the datesold column to datetime type\n",
    "region_df['datesold'] = pd.to_datetime(region_df['datesold'])\n",
    "\n",
    "# Summarize prices by month\n",
    "monthly_prices = region_df.resample('M', on='datesold')['price'].mean()\n",
    "\n",
    "# Draw a line chart\n",
    "plt.plot(monthly_prices.index, monthly_prices.values)\n",
    "plt.xlabel('Date')\n",
    "plt.ylabel('Average Price')\n",
    "plt.title(f'Average Housing Prices for Postcode {region_df}')\n",
    "plt.show()\n"
   ]
  },
  {
   "cell_type": "code",
   "execution_count": null,
   "metadata": {},
   "outputs": [],
   "source": [
    "from prophet import Prophet\n",
    "\n",
    "# Prepare data and fit model\n",
    "region_df = region_df[['datesold', 'price']]\n",
    "region_df.columns = ['ds', 'y']\n",
    "model = Prophet()\n",
    "model.fit(region_df)\n",
    "\n",
    "# Generate future dates and make predictions\n",
    "future = model.make_future_dataframe(periods=1825)\n",
    "forecast = model.predict(future)\n",
    "\n",
    "# draw predictions\n",
    "fig = model.plot(forecast)\n"
   ]
  }
 ],
 "metadata": {
  "language_info": {
   "name": "python"
  },
  "orig_nbformat": 4
 },
 "nbformat": 4,
 "nbformat_minor": 2
}
